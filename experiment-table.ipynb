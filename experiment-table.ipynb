{
 "cells": [
  {
   "cell_type": "code",
   "execution_count": 23,
   "id": "f8b69641-6835-41ed-8d64-fcdf89c6e8d7",
   "metadata": {
    "tags": []
   },
   "outputs": [
    {
     "name": "stderr",
     "output_type": "stream",
     "text": [
      "Evaluating: 100%|██████████| 4/4 [00:00<00:00, 22.65it/s]\n"
     ]
    },
    {
     "data": {
      "text/html": [
       "<div>\n",
       "<style scoped>\n",
       "    .dataframe tbody tr th:only-of-type {\n",
       "        vertical-align: middle;\n",
       "    }\n",
       "\n",
       "    .dataframe tbody tr th {\n",
       "        vertical-align: top;\n",
       "    }\n",
       "\n",
       "    .dataframe thead tr th {\n",
       "        text-align: left;\n",
       "    }\n",
       "</style>\n",
       "<table border=\"1\" class=\"dataframe\">\n",
       "  <thead>\n",
       "    <tr>\n",
       "      <th></th>\n",
       "      <th>count</th>\n",
       "      <th>clean</th>\n",
       "      <th>run</th>\n",
       "      <th colspan=\"3\" halign=\"left\">micro</th>\n",
       "      <th colspan=\"3\" halign=\"left\">macro</th>\n",
       "      <th>pred_time</th>\n",
       "    </tr>\n",
       "    <tr>\n",
       "      <th></th>\n",
       "      <th>min_count</th>\n",
       "      <th>min_count</th>\n",
       "      <th></th>\n",
       "      <th>precision</th>\n",
       "      <th>recall</th>\n",
       "      <th>fscore</th>\n",
       "      <th>precision</th>\n",
       "      <th>recall</th>\n",
       "      <th>fscore</th>\n",
       "      <th></th>\n",
       "    </tr>\n",
       "  </thead>\n",
       "  <tbody>\n",
       "    <tr>\n",
       "      <th>0</th>\n",
       "      <td>3</td>\n",
       "      <td>3</td>\n",
       "      <td>baseline</td>\n",
       "      <td>0.480505</td>\n",
       "      <td>0.480505</td>\n",
       "      <td>0.480505</td>\n",
       "      <td>0.428087</td>\n",
       "      <td>0.426892</td>\n",
       "      <td>0.426428</td>\n",
       "      <td>0.623818</td>\n",
       "    </tr>\n",
       "    <tr>\n",
       "      <th>1</th>\n",
       "      <td>3</td>\n",
       "      <td>3</td>\n",
       "      <td>model</td>\n",
       "      <td>0.485092</td>\n",
       "      <td>0.485092</td>\n",
       "      <td>0.485092</td>\n",
       "      <td>0.432414</td>\n",
       "      <td>0.431457</td>\n",
       "      <td>0.430959</td>\n",
       "      <td>2.279957</td>\n",
       "    </tr>\n",
       "    <tr>\n",
       "      <th>2</th>\n",
       "      <td>4</td>\n",
       "      <td>4</td>\n",
       "      <td>baseline</td>\n",
       "      <td>0.478211</td>\n",
       "      <td>0.478211</td>\n",
       "      <td>0.478211</td>\n",
       "      <td>0.427017</td>\n",
       "      <td>0.425819</td>\n",
       "      <td>0.425354</td>\n",
       "      <td>1.188066</td>\n",
       "    </tr>\n",
       "    <tr>\n",
       "      <th>3</th>\n",
       "      <td>4</td>\n",
       "      <td>4</td>\n",
       "      <td>model</td>\n",
       "      <td>0.479931</td>\n",
       "      <td>0.479931</td>\n",
       "      <td>0.479931</td>\n",
       "      <td>0.428927</td>\n",
       "      <td>0.427299</td>\n",
       "      <td>0.427088</td>\n",
       "      <td>1.785688</td>\n",
       "    </tr>\n",
       "  </tbody>\n",
       "</table>\n",
       "</div>"
      ],
      "text/plain": [
       "      count     clean       run     micro                         macro   \n",
       "  min_count min_count           precision    recall    fscore precision   \n",
       "0         3         3  baseline  0.480505  0.480505  0.480505  0.428087  \\\n",
       "1         3         3     model  0.485092  0.485092  0.485092  0.432414   \n",
       "2         4         4  baseline  0.478211  0.478211  0.478211  0.427017   \n",
       "3         4         4     model  0.479931  0.479931  0.479931  0.428927   \n",
       "\n",
       "                      pred_time  \n",
       "     recall    fscore            \n",
       "0  0.426892  0.426428  0.623818  \n",
       "1  0.431457  0.430959  2.279957  \n",
       "2  0.425819  0.425354  1.188066  \n",
       "3  0.427299  0.427088  1.785688  "
      ]
     },
     "execution_count": 23,
     "metadata": {},
     "output_type": "execute_result"
    }
   ],
   "source": [
    "from minimel import evaluate\n",
    "from minimel.experiment import get_dir_params\n",
    "import pandas as pd\n",
    "import pathlib\n",
    "\n",
    "fpreds = sorted(pathlib.Path(\"../data/wiki/simplewiki-20211120/\").rglob(\"run*.tsv\"))\n",
    "fgold = pathlib.Path(\"../data/mewsli-en-small.tsv\")\n",
    "\n",
    "scores = evaluate(fgold, *fpreds)\n",
    "\n",
    "dir_params = pd.DataFrame.from_records([\n",
    "    {p.split(\"__\")[0]: dict(get_dir_params(pathlib.Path(p))) for p in i.parts if \"__\" in p}\n",
    "    for i in scores.index\n",
    "])\n",
    "dir_params = pd.concat(\n",
    "    {k: pd.DataFrame.from_records(v) for k, v in dir_params.items()}, axis=1\n",
    ")\n",
    "dir_params[\"run\"] = dir_params[\"run\"].str.replace(\".tsv\", \"\")\n",
    "\n",
    "train_time_logs = [f.parent.parent / \"time.log\" for f in fpreds]\n",
    "scores[\"train_time\"] = [float(open(f).readlines()[-1].split()[-1]) for f in time_logs]\n",
    "pred_time_logs = [\n",
    "    f.parent / f.name.replace(\"run___\", \"\").replace(\".tsv\", \"-time.log\") for f in fpreds\n",
    "]\n",
    "scores[\"pred_time\"] = [float(open(f).readlines()[-1].split()[-1]) for f in time_logs]\n",
    "\n",
    "score_table = dir_params.join(scores.reset_index(drop=True))\n",
    "score_table = score_table.drop(\n",
    "    columns=[c for c, v in score_table.items() if len(set(v)) == 1]\n",
    ")\n",
    "score_table"
   ]
  },
  {
   "cell_type": "code",
   "execution_count": 3,
   "id": "210ba875-e34f-4068-b689-857c28bcfd16",
   "metadata": {
    "tags": []
   },
   "outputs": [
    {
     "name": "stdout",
     "output_type": "stream",
     "text": [
      "\\begin{tabular}{lrrrrrrrr}\n",
      "\\toprule\n",
      " & count & clean & \\multicolumn{3}{r}{micro} & \\multicolumn{3}{r}{macro} \\\\\n",
      " & min_count & min_count & precision & recall & fscore & precision & recall & fscore \\\\\n",
      "\\midrule\n",
      "0 & 3 & 3 & 0.485092 & 0.485092 & 0.485092 & 0.432663 & 0.431705 & 0.431207 \\\\\n",
      "1 & 4 & 4 & 0.479931 & 0.479931 & 0.479931 & 0.429174 & 0.427545 & 0.427334 \\\\\n",
      "\\bottomrule\n",
      "\\end{tabular}\n",
      "\n"
     ]
    }
   ],
   "source": [
    "print(score_table.to_latex())"
   ]
  },
  {
   "cell_type": "code",
   "execution_count": null,
   "id": "cdca97f0-11b8-40f8-98ec-bbc9db4a013f",
   "metadata": {},
   "outputs": [],
   "source": []
  }
 ],
 "metadata": {
  "kernelspec": {
   "display_name": "Python 3 (ipykernel)",
   "language": "python",
   "name": "python3"
  },
  "language_info": {
   "codemirror_mode": {
    "name": "ipython",
    "version": 3
   },
   "file_extension": ".py",
   "mimetype": "text/x-python",
   "name": "python",
   "nbconvert_exporter": "python",
   "pygments_lexer": "ipython3",
   "version": "3.9.7"
  }
 },
 "nbformat": 4,
 "nbformat_minor": 5
}
