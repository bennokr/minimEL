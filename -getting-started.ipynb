{
 "cells": [
  {
   "cell_type": "markdown",
   "metadata": {},
   "source": [
    "# Getting Started\n",
    "\n",
    "First, install the library with extras to train models:\n",
    "```\n",
    "pip install -e git+https://github.com/bennokr/minimel.git#egg=minimel[train]\n",
    "```"
   ]
  },
  {
   "cell_type": "code",
   "execution_count": 2,
   "metadata": {},
   "outputs": [
    {
     "name": "stdout",
     "output_type": "stream",
     "text": [
      "2024-03-06 09:59:56,309 - wikimapper.download - INFO - [wiki/iawiki-latest/iawiki-latest-page.sql.gz] already exists, skipping downloading [https://dumps.wikimedia.org/iawiki/latest/iawiki-latest-page.sql.gz]!\n",
      "2024-03-06 09:59:56,309 - wikimapper.download - INFO - [wiki/iawiki-latest/iawiki-latest-page_props.sql.gz] already exists, skipping downloading [https://dumps.wikimedia.org/iawiki/latest/iawiki-latest-page_props.sql.gz]!\n",
      "2024-03-06 09:59:56,309 - wikimapper.download - INFO - [wiki/iawiki-latest/iawiki-latest-redirect.sql.gz] already exists, skipping downloading [https://dumps.wikimedia.org/iawiki/latest/iawiki-latest-redirect.sql.gz]!\n",
      "2024-03-06 09:59:56,588 - wikimapper.processor - INFO - Creating index for [iawiki-latest] in [wiki/iawiki-latest/index_iawiki-latest.db]\n",
      "2024-03-06 09:59:56,591 - wikimapper.processor - INFO - Parsing pages dump\n",
      "2024-03-06 09:59:56,983 - wikimapper.processor - INFO - Creating database index on 'wikipedia_title'\n",
      "2024-03-06 09:59:57,035 - wikimapper.processor - INFO - Parsing page properties dump\n",
      "2024-03-06 09:59:57,339 - wikimapper.processor - INFO - Parsing redirects dump\n",
      "2024-03-06 09:59:57,417 - wikimapper.processor - INFO - Creating database index on 'wikidata_id'\n"
     ]
    }
   ],
   "source": [
    "wiki = 'iawiki-latest' # use Interlingua language Wikipedia version to test\n",
    "root = 'wiki/' + wiki\n",
    "!mkdir -p $root\n",
    "!wikimapper download $wiki --dir $root\n",
    "outdb = f'{root}/index_{wiki}.db'\n",
    "!wikimapper create $wiki --dumpdir $root --target $outdb"
   ]
  },
  {
   "cell_type": "code",
   "execution_count": 3,
   "metadata": {},
   "outputs": [
    {
     "name": "stdout",
     "output_type": "stream",
     "text": [
      "Loading mapping...: 100%|█████████████| 34465/34465 [00:00<00:00, 628081.33it/s]\n",
      "INFO:root:Building IntDAWG trie...\n",
      "INFO:root:Saving to wiki/iawiki-latest/index_iawiki-latest.dawg...\n"
     ]
    }
   ],
   "source": [
    "!minimel -v index $outdb"
   ]
  },
  {
   "cell_type": "code",
   "execution_count": 4,
   "metadata": {},
   "outputs": [
    {
     "name": "stdout",
     "output_type": "stream",
     "text": [
      "--2024-03-06 10:00:00--  https://dumps.wikimedia.org/iawiki/latest/iawiki-latest-pages-articles.xml.bz2\n",
      "Resolving dumps.wikimedia.org (dumps.wikimedia.org)... 208.80.154.71, 2620:0:861:3:208:80:154:71\n",
      "Connecting to dumps.wikimedia.org (dumps.wikimedia.org)|208.80.154.71|:443... connected.\n",
      "HTTP request sent, awaiting response... 200 OK\n",
      "Length: 11275975 (11M) [application/octet-stream]\n",
      "Saving to: ‘wiki/iawiki-latest/iawiki-latest-pages-articles.xml.bz2’\n",
      "\n",
      "100%[======================================>] 11,275,975  3.67MB/s   in 2.9s   \n",
      "\n",
      "2024-03-06 10:00:04 (3.67 MB/s) - ‘wiki/iawiki-latest/iawiki-latest-pages-articles.xml.bz2’ saved [11275975/11275975]\n",
      "\n",
      "bunzip2: Output file wiki/iawiki-latest/iawiki-latest-pages-articles.xml already exists.\n"
     ]
    }
   ],
   "source": [
    "!wget -P $root https://dumps.wikimedia.org/iawiki/latest/iawiki-latest-pages-articles.xml.bz2\n",
    "!bunzip2 $root/iawiki-latest-pages-articles.xml.bz2"
   ]
  },
  {
   "cell_type": "code",
   "execution_count": 34,
   "metadata": {},
   "outputs": [
    {
     "name": "stdout",
     "output_type": "stream",
     "text": [
      "INFO:root:Finished in 12s################] | 100% Completed | 12.9s\u001b[2K\n",
      "INFO:root:Wrote 100 partitions\n"
     ]
    }
   ],
   "source": [
    "dump = f'{root}/{wiki}-pages-articles.xml'\n",
    "dawg = f'{root}/index_{wiki}.dawg'\n",
    "!minimel -v get-paragraphs -n 100 $dump $dawg "
   ]
  },
  {
   "cell_type": "code",
   "execution_count": 6,
   "metadata": {},
   "outputs": [
    {
     "name": "stdout",
     "output_type": "stream",
     "text": [
      "INFO:root:Using disambiguation template disambiguation, not None\n",
      "INFO:root:Extracting disambiguation links...\n",
      "INFO:root:Finished in 13s################] | 100% Completed | 13.5s\u001b[2K\n",
      "INFO:root:Writing to wiki/iawiki-latest/disambig.json\n"
     ]
    }
   ],
   "source": [
    "!minimel -v get-disambig -n 100 -d disambiguation $dump $dawg"
   ]
  },
  {
   "cell_type": "code",
   "execution_count": 7,
   "metadata": {},
   "outputs": [
    {
     "name": "stdout",
     "output_type": "stream",
     "text": [
      "INFO:root:Counting links...\n",
      "INFO:root:Finished in 2s#################] | 100% Completed |  2.5s\u001b[2K\n",
      "INFO:root:Got 32490 counts.\n",
      "INFO:root:Aggregating...\n",
      "INFO:root:Finished in 2s#################] | 100% Completed |  2.2s\u001b[2K\n",
      "INFO:root:Writing to wiki/iawiki-latest/count.min2.json\n"
     ]
    }
   ],
   "source": [
    "paragraphlinks = f'{root}/{wiki}-paragraph-links/'\n",
    "!minimel -v count $paragraphlinks"
   ]
  },
  {
   "cell_type": "code",
   "execution_count": 17,
   "metadata": {},
   "outputs": [
    {
     "name": "stdout",
     "output_type": "stream",
     "text": [
      "--2024-03-06 10:10:14--  https://query.wikidata.org/sparql?format=json&query=%0ASELECT%20DISTINCT%20%3Fs%20WHERE%20%7B%0A%20%20%7B%3Fs%20wdt%3AP31%20wd%3AQ4167410%20.%7D%20%23%20disambig%0A%20%20UNION%0A%20%20%7B%3Fs%20wdt%3AP31%20wd%3AQ13406463%20.%7D%20%23%20list%0A%20%20UNION%0A%20%20%7B%3Fs%20wdt%3AP360%20%3Fl%20.%20%7D%20%23%20list%20of%0A%0A%20%20%3Fpage%20schema%3Aabout%20%3Fs%20.%0A%20%20%3Fpage%20schema%3AinLanguage%20%22ia%22%20.%0A%7D%0A\n",
      "Resolving query.wikidata.org (query.wikidata.org)... 185.15.59.224, 2a02:ec80:300:ed1a::1\n",
      "Connecting to query.wikidata.org (query.wikidata.org)|185.15.59.224|:443... connected.\n",
      "HTTP request sent, awaiting response... 200 OK\n",
      "Length: unspecified [application/sparql-results+json]\n",
      "Saving to: ‘wiki/iawiki-latest/badent.json’\n",
      "\n",
      "    [ <=>                                   ] 55,974      --.-K/s   in 0.001s  \n",
      "\n",
      "2024-03-06 10:10:14 (52.4 MB/s) - ‘wiki/iawiki-latest/badent.json’ saved [55974]\n",
      "\n"
     ]
    }
   ],
   "source": [
    "import shlex, urllib, json\n",
    "\n",
    "# Get Wikidata IDs for disambiguation and list articles\n",
    "lang = wiki.split('wiki')[0]\n",
    "query = urllib.parse.quote(\"\"\"\n",
    "SELECT DISTINCT ?s WHERE {\n",
    "  {?s wdt:P31 wd:Q4167410 .} # disambig\n",
    "  UNION\n",
    "  {?s wdt:P31 wd:Q13406463 .} # list\n",
    "  UNION\n",
    "  {?s wdt:P360 ?l . } # list of\n",
    "\n",
    "  ?page schema:about ?s .\n",
    "  ?page schema:inLanguage \"%s\" .\n",
    "}\n",
    "\"\"\" % lang)\n",
    "url = shlex.quote(f\"https://query.wikidata.org/sparql?format=json&query={query}\")\n",
    "badent = f'{root}/badent.json'\n",
    "!wget -O $badent $url\n",
    "\n",
    "bindings = json.load(open(badent)).get('results', []).get('bindings', [])\n",
    "qids = [b.get('s', {}).get('value', '')[31:] for b in bindings]\n",
    "badent = f'{root}/badent.txt'\n",
    "with open(badent, 'w') as fw:\n",
    "    print('\\n'.join(qids), file=fw)"
   ]
  },
  {
   "cell_type": "code",
   "execution_count": 18,
   "metadata": {},
   "outputs": [
    {
     "name": "stdout",
     "output_type": "stream",
     "text": [
      "Counting entities...: 100%|███████████| 11447/11447 [00:00<00:00, 294410.67it/s]\n",
      "INFO:root:Removing 130 bad entities\n",
      "Loading labels...: 100%|██████████████| 34465/34465 [00:00<00:00, 196894.89it/s]\n",
      "Filtering names...: 100%|██████████████| 11387/11387 [00:00<00:00, 69138.81it/s]\n",
      "INFO:root:Filtering out 1 bad names\n",
      "INFO:root:Keeping 11386 good names\n",
      "INFO:root:Writing to wiki/iawiki-latest/clean.json\n"
     ]
    }
   ],
   "source": [
    "disambigfile = f'{root}/disambig.json'\n",
    "countfile = f'{root}/count.min2.json'\n",
    "!minimel -v clean -b $badent $outdb $disambigfile $countfile"
   ]
  },
  {
   "cell_type": "code",
   "execution_count": 19,
   "metadata": {},
   "outputs": [
    {
     "name": "stdout",
     "output_type": "stream",
     "text": [
      "INFO:root:Vectorizing training examples for 286 ambiguous names\n",
      "INFO:root:Writing to wiki/iawiki-latest/vec.clean.dat.parts\n",
      "INFO:root:Finished in 1s#################] | 100% Completed |  1.1s\u001b[2K\n",
      "INFO:root:Wrote 34 partitions\n",
      "INFO:root:Concatenating to wiki/iawiki-latest/vec.clean.dat\n",
      "Concatenating: 100%|██████████████████████████| 34/34 [00:00<00:00, 4602.88it/s]\n"
     ]
    }
   ],
   "source": [
    "cleanfile = f'{root}/clean.json'\n",
    "!minimel -v vectorize $paragraphlinks $cleanfile"
   ]
  },
  {
   "cell_type": "code",
   "execution_count": 21,
   "metadata": {},
   "outputs": [
    {
     "name": "stdout",
     "output_type": "stream",
     "text": [
      "INFO:root:Writing to wiki/iawiki-latest/model.20b.vw\n",
      "creating quadratic features for pairs: ls sf\n",
      "final_regressor = wiki/iawiki-latest/model.20b.vw\n",
      "creating cache_file = wiki/iawiki-latest/vec.clean.dat.cache\n",
      "Reading datafile = wiki/iawiki-latest/vec.clean.dat\n",
      "num sources = 1\n",
      "Num weight bits = 20\n",
      "learning rate = 0.5\n",
      "initial_t = 0\n",
      "power_t = 0.5\n",
      "decay_learning_rate = 1\n",
      "Enabled learners: gd, scorer-identity, csoaa_ldf-prob, shared_feature_merger\n",
      "Input label = CS\n",
      "Output pred = SCALARS\n",
      "average  since         example        example        current        current  current\n",
      "loss     last          counter         weight          label        predict features\n",
      "0.000000 0.000000            1            1.0        unknown              0     1330\n",
      "0.000000 0.000000            2            2.0        unknown              0      344\n",
      "0.000000 0.000000            4            4.0        unknown              0      364\n",
      "0.250000 0.500000            8            8.0          known            183      712\n",
      "0.187500 0.125000           16           16.0          known           1321       36\n",
      "0.125000 0.062500           32           32.0        unknown              0      272\n",
      "0.078125 0.031250           64           64.0        unknown              0      140\n",
      "0.125000 0.171875          128          128.0        unknown              0       84\n",
      "0.136719 0.148438          256          256.0        unknown              0      124\n",
      "0.117188 0.097656          512          512.0        unknown              0       36\n",
      "0.125000 0.132812         1024         1024.0        unknown              0      552\n",
      "0.113281 0.101562         2048         2048.0        unknown              0      104\n",
      "0.115723 0.118164         4096         4096.0          known          41304       24\n",
      "0.111938 0.108154         8192         8192.0        unknown              0      128\n",
      "unknown  unknown         16384        16384.0          known            652      108 h\n",
      "unknown  unknown         32768        32768.0        unknown              0       24 h\n",
      "\n",
      "finished run\n",
      "number of examples per pass = 10150\n",
      "passes used = 4\n",
      "weighted example sum = 40600.000000\n",
      "weighted label sum = 0.000000\n",
      "average loss = undefined (no holdout)\n",
      "average multiclass log loss = 0.396795 h\n",
      "total feature number = 16042808\n",
      "INFO:root:Wrote to model.20b.vw\n"
     ]
    }
   ],
   "source": [
    "vecfile = f'{root}/vec.clean.dat'\n",
    "!minimel -v train $vecfile"
   ]
  },
  {
   "cell_type": "code",
   "execution_count": 41,
   "metadata": {},
   "outputs": [
    {
     "name": "stdout",
     "output_type": "stream",
     "text": [
      "Predicting: 100%|███████████████████████| 59134/59134 [00:16<00:00, 3681.70it/s]\n",
      "INFO:root:,,0\n",
      "micro,precision,0.9081185405247082\n",
      "micro,recall,0.9081185405247082\n",
      "micro,fscore,0.9081185405247082\n",
      "macro,precision,0.9232628882555252\n",
      "macro,recall,0.9058898794831253\n",
      "macro,fscore,0.911819107954825\n",
      ",support,191192.0\n",
      "\n"
     ]
    }
   ],
   "source": [
    "modelfile = f'{root}/model.20b.vw'\n",
    "!minimel -v run --evaluate -o /dev/null $dawg $cleanfile $modelfile $paragraphlinks/*"
   ]
  }
 ],
 "metadata": {
  "kernelspec": {
   "display_name": "minimel",
   "language": "python",
   "name": "python3"
  },
  "language_info": {
   "codemirror_mode": {
    "name": "ipython",
    "version": 3
   },
   "file_extension": ".py",
   "mimetype": "text/x-python",
   "name": "python",
   "nbconvert_exporter": "python",
   "pygments_lexer": "ipython3",
   "version": "3.9.17"
  }
 },
 "nbformat": 4,
 "nbformat_minor": 2
}
